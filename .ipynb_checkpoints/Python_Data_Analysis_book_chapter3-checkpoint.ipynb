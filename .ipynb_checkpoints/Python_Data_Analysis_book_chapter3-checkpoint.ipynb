{
 "cells": [
  {
   "cell_type": "markdown",
   "metadata": {},
   "source": [
    "# Python for Data Analysis\n",
    "## Chapter 3 - IPython: An Interactive Computing and Development Environment"
   ]
  },
  {
   "cell_type": "markdown",
   "metadata": {},
   "source": [
    "An interative shell for python, it encourages an execute-explore workflow instead of the typical edit-compile-run workflow. Kind of like having Jupyter, but on your command shell."
   ]
  },
  {
   "cell_type": "markdown",
   "metadata": {},
   "source": [
    "### IPython Basics\n",
    "\n",
    "It has an In and Out style, just like Jupyter.\n",
    "\n",
    "It has Tab Completion, for variables and methods.\n",
    "\n",
    "It has Introspection. Using a question mark (?) before or after a variable will display some general information about the object."
   ]
  },
  {
   "cell_type": "markdown",
   "metadata": {},
   "source": [
    "### The %run Command\n",
    "\n",
    "Any file can be run as a Python program inside the environment of your IPython session using the %run command."
   ]
  },
  {
   "cell_type": "markdown",
   "metadata": {},
   "source": [
    "### Magic Commands\n",
    "\n",
    "A magic command is any command prefixed by the the percent symbol %. For example, you can check the execution time of any Python statement, using the %timeit magic function."
   ]
  },
  {
   "cell_type": "markdown",
   "metadata": {},
   "source": [
    "| Command                                                                                                                                                                                         | Description                                                                                                                         |\n",
    "|-------------------------------------------------------------------------------------------------------------------------------------------------------------------------------------------------|-------------------------------------------------------------------------------------------------------------------------------------|\n",
    "| %quickref                                                                                                                                                                                       | Display the IPython Quick Reference Card                                                                                            |\n",
    "| %magic                                                                                                                                                                                          | Display detailed documentation for all of the available magic commands                                                              |\n",
    "| %debug                                                                                                                                                                                          | Enter the interactive debugger at the bottom of the last exception traceback                                                        |\n",
    "| %hist                                                                                                                                                                                           | Print command input (and optionally output) history                                                                                 |\n",
    "| %pdb                                                                                                                                                                                            | Automatically enter debugger after any exception                                                                                    |\n",
    "| %paste                                                                                                                                                                                          | Execute pre-formatted Python code from clipboard                                                                                    |\n",
    "| %cpaste                                                                                                                                                                                         | Open a special prompt for manually pasting Python code to be executed                                                               |\n",
    "| %reset                                                                                                                                                                                          | Delete all variables / names defined in interactive namespace                                                                       |\n",
    "| %page OBJECT                                                                                                                                                                                    | Pretty print the object and display it through a pager                                                                              |\n",
    "| %run script.py                                                                                                                                                                                  | Run a Python script inside IPython                                                                                                  |\n",
    "| %prun statement                                                                                                                                                                                 | Execute statement with cProfile and report the profiler output                                                                      |\n",
    "| %time statement                                                                                                                                                                                 | Report the execution time of single statement                                                                                       |\n",
    "| %timeit statement                                                                                                                                                                               | Run a statement multiple times to compute an emsemble average execution time. Useful for timing code with very short execution time |\n",
    "| %who, %who_ls, %whos                                                                                                                                                                            | Display variables defined in interactive namespace, with varying levels of information / verbosity                                  |\n",
    "| %xdel variable                                                                                                                                                                                  | Delete a variable and attempt to clear any references to the object in the IPython internals                                        |"
   ]
  },
  {
   "cell_type": "markdown",
   "metadata": {},
   "source": [
    "### Qt-based Rich GUI Console"
   ]
  },
  {
   "cell_type": "markdown",
   "metadata": {},
   "source": [
    "GUI Console like Jupyter."
   ]
  },
  {
   "cell_type": "markdown",
   "metadata": {},
   "source": [
    "### Interacting with the Operating System"
   ]
  },
  {
   "cell_type": "markdown",
   "metadata": {},
   "source": [
    "| Command                | Description                                                      |\n",
    "|------------------------|------------------------------------------------------------------|\n",
    "| !cmd                   | Execute cmd in the system shell                                  |\n",
    "| output = !cmd args     | Run cmd and store the stdout in output                           |\n",
    "| %alias alias_name cmd  | Define an alias for a system (shell) command                     |\n",
    "| %bookmark              | Utilize IPython’s directory bookmarking system                   |\n",
    "| %cd directory          | Change system working directory to passed directory              |\n",
    "| %pwd                   | Return the current system working directory                      |\n",
    "| %pushd directory       | Place current directory on stack and change to target directory  |\n",
    "| %popd                  | Change to directory popped off the top of the stack              |\n",
    "| %dirs                  | Return a list containing the current directory stack             |\n",
    "| %dhist                 | Print the history of visited directories                         |\n",
    "| %env                   | Return the system environment variables as a dict                |"
   ]
  },
  {
   "cell_type": "markdown",
   "metadata": {},
   "source": [
    "### Shell Commands and Aliases\n",
    "\n",
    "Starting a line in IPython with an exclamation point !, or bang, tells IPython to execute everything after the bang in the system shell.\n",
    "\n",
    "Example: !pip install -package-"
   ]
  },
  {
   "cell_type": "markdown",
   "metadata": {},
   "source": [
    "### Interactive Debugger\n",
    "\n",
    "One of the best times to debug code is right after an error has occurred. The %debug command, when entered immediately after an exception, invokes the “post-mortem” debugger and drops you into the stack frame where the exception was raised.\n",
    "\n",
    "Once inside the debugger, you can execute arbitrary Python code and explore all of the objects and data (which have been “kept alive” by the interpreter) inside each stack frame. By default you start in the lowest level, where the error occurred. By pressing u (up) and d (down), you can switch between the levels of the stack trace.\n",
    "\n",
    "```\n",
    "ipdb> u\n",
    "> /home/wesm/book_scripts/ch03/ipython_bug.py(13)calling_things()\n",
    "12 works_fine()\n",
    "---> 13 throws_an_exception()\n",
    "14\n",
    "```"
   ]
  },
  {
   "cell_type": "markdown",
   "metadata": {},
   "source": [
    "### Timing Code: %time and %timeit\n",
    "\n",
    "For larger-scale or longer-running data analysis applications, you may wish to measure the execution time of various components or of individual statements or function calls.\n",
    "\n",
    "```\n",
    "import time\n",
    "start = time.time()\n",
    "for i in range(iterations):\n",
    "# some code to run here\n",
    "elapsed_per = (time.time() - start) / iterations\n",
    "```\n",
    "\n",
    "Since this is such a common operation, IPython has two magic functions %time and %timeit to automate this process for you. %time runs a statement once, reporting the total execution time.\n",
    "\n",
    "To get a more precise measurement, use the %timeit magic function. Given an arbitrary statement, it has a heuristic to run a statement multiple times to produce a fairly accurate average runtime.\n",
    "\n",
    "```\n",
    "In [563]: %timeit [x for x in strings if x.startswith('foo')] \n",
    "10 loops, best of 3: 159 ms per loop\n",
    "```"
   ]
  },
  {
   "cell_type": "markdown",
   "metadata": {},
   "source": [
    "### Basic Profiling: %prun and %run -p\n",
    "\n",
    "Profiling code is closely related to timing code, except it is concerned with determining where time is spent. \n",
    "\n",
    "```\n",
    "In [4]: %prun -l 7 -s cumulative run_experiment() 4203 function calls in 0.643 seconds\n",
    "\n",
    "```\n",
    "\n",
    "Returns total cumulative run time for every method that was called during the experiment."
   ]
  },
  {
   "cell_type": "markdown",
   "metadata": {},
   "source": [
    "### Advanced IPython Features\n",
    "\n"
   ]
  },
  {
   "cell_type": "markdown",
   "metadata": {},
   "source": [
    "#### Making Your Own Classes IPython-friendly"
   ]
  },
  {
   "cell_type": "code",
   "execution_count": null,
   "metadata": {},
   "outputs": [],
   "source": []
  }
 ],
 "metadata": {
  "kernelspec": {
   "display_name": "Python 3",
   "language": "python",
   "name": "python3"
  },
  "language_info": {
   "codemirror_mode": {
    "name": "ipython",
    "version": 3
   },
   "file_extension": ".py",
   "mimetype": "text/x-python",
   "name": "python",
   "nbconvert_exporter": "python",
   "pygments_lexer": "ipython3",
   "version": "3.7.4"
  }
 },
 "nbformat": 4,
 "nbformat_minor": 2
}
